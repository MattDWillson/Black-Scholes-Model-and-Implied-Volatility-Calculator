{
 "cells": [
  {
   "cell_type": "code",
   "execution_count": 4,
   "id": "bd3734e3-d439-45e6-85e5-7938efe055cb",
   "metadata": {},
   "outputs": [],
   "source": [
    "# Initial Imports\n",
    "import pandas as pd\n",
    "import numpy as np\n",
    "from scipy.stats import norm\n",
    "import matplotlib.pyplot as plt\n",
    "import mibian\n",
    "%matplotlib inline\n",
    "import warnings \n",
    "warnings.filterwarnings('ignore')"
   ]
  },
  {
   "cell_type": "code",
   "execution_count": 80,
   "id": "cfda61db-0365-417a-9668-c7c6145a7073",
   "metadata": {},
   "outputs": [
    {
     "name": "stdout",
     "output_type": "stream",
     "text": [
      "Option price is:  0.66\n"
     ]
    }
   ],
   "source": [
    "# Black Scholes\n",
    "\n",
    "# Define Variables\n",
    "\n",
    "# Interest Rate\n",
    "r = .01\n",
    "\n",
    "# Underlying Stock Price\n",
    "S = 100\n",
    "\n",
    "# Strike Price\n",
    "K = 105\n",
    "\n",
    "# Time to Expiration\n",
    "T = 30/365\n",
    "\n",
    "# Volatility or Standard Deviation\n",
    "sigma = .20\n",
    "\n",
    "def blackscholes(r, S, K, T, sigma, type=\"C\"):\n",
    "    \"Calculate BS option price for a call/put\"\n",
    "    d1 = (np.log(S/K) + (r + sigma**2/2)*T)/(sigma*np.sqrt(T))\n",
    "    d2 = d1 - sigma*np.sqrt(T)\n",
    "    try:\n",
    "        if type == \"C\":\n",
    "            price = S*norm.cdf(d1, 0, 1) - K*np.exp(-r*T)*norm.cdf(d2, 0, 1)\n",
    "        elif type == \"P\":\n",
    "            price = K*np.exp(-r*T)*norm.cdf(-d2, 0, 1) - S*norm.cdf(-d1, 0, 1)\n",
    "        return price\n",
    "    except:\n",
    "        print(\"Please confirm all option parameters above!\")\n",
    "        \n",
    "print(\"Option price is: \", round(blackscholes(r, S, K, T, sigma, type=\"C\"), 2))"
   ]
  },
  {
   "cell_type": "code",
   "execution_count": 81,
   "id": "292afc10-1fe6-4bdd-baf9-19c86a8d2a97",
   "metadata": {},
   "outputs": [
    {
     "data": {
      "text/plain": [
       "20.01953125"
      ]
     },
     "execution_count": 81,
     "metadata": {},
     "output_type": "execute_result"
    }
   ],
   "source": [
    "# Using Mibian library to calculate implied volatility\n",
    "# The syntax for the variable values is in the format below:\n",
    "# mibian.BS([UnderlyingPrice, StrikePrice, InterestRate, Daystoexpiration],callPrice=x)\n",
    "# Call Implied Volatility\n",
    "\n",
    "c = mibian.BS([100, 105, 1, 30], callPrice=.66)\n",
    "c.impliedVolatility"
   ]
  },
  {
   "cell_type": "code",
   "execution_count": 82,
   "id": "aae5ba1a-bde7-47f9-ba57-666fc0190596",
   "metadata": {},
   "outputs": [
    {
     "data": {
      "text/plain": [
       "64.453125"
      ]
     },
     "execution_count": 82,
     "metadata": {},
     "output_type": "execute_result"
    }
   ],
   "source": [
    "#Put Implied Volatility\n",
    "p = mibian.BS([100, 95, 1, 31], putPrice= 5.00)\n",
    "p.impliedVolatility"
   ]
  }
 ],
 "metadata": {
  "kernelspec": {
   "display_name": "Python 3",
   "language": "python",
   "name": "python3"
  },
  "language_info": {
   "codemirror_mode": {
    "name": "ipython",
    "version": 3
   },
   "file_extension": ".py",
   "mimetype": "text/x-python",
   "name": "python",
   "nbconvert_exporter": "python",
   "pygments_lexer": "ipython3",
   "version": "3.7.10"
  }
 },
 "nbformat": 4,
 "nbformat_minor": 5
}
